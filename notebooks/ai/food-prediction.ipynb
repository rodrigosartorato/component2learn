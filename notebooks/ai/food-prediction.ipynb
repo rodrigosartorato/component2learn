{
 "cells": [
  {
   "cell_type": "code",
   "execution_count": 9,
   "metadata": {},
   "outputs": [],
   "source": [
    "import iplantuml"
   ]
  },
  {
   "cell_type": "code",
   "execution_count": null,
   "metadata": {},
   "outputs": [],
   "source": [
    "%%plantuml\n",
    "\n",
    "@startuml\n",
    "\n",
    "interface Predictor {\n",
    "  + train(csv_file_path: string)\n",
    "  + predict(age: int, gender: int, ethnicity: int): string\n",
    "}\n",
    "\n",
    "@enduml"
   ]
  },
  {
   "cell_type": "code",
   "execution_count": 13,
   "metadata": {},
   "outputs": [
    {
     "name": "stdout",
     "output_type": "stream",
     "text": [
      "Traceback (most recent call last):\n",
      "  File \"/home/santanche/.local/bin/plantweb\", line 8, in <module>\n",
      "    sys.exit(run())\n",
      "  File \"/home/santanche/.local/lib/python3.10/site-packages/plantweb/__main__.py\", line 36, in run\n",
      "    exit(main(args))\n",
      "  File \"/home/santanche/.local/lib/python3.10/site-packages/plantweb/main.py\", line 45, in main\n",
      "    destination = render_file(\n",
      "  File \"/home/santanche/.local/lib/python3.10/site-packages/plantweb/render.py\", line 228, in render_file\n",
      "    output, format, engine, sha = render(\n",
      "  File \"/home/santanche/.local/lib/python3.10/site-packages/plantweb/render.py\", line 199, in render\n",
      "    output, sha = render_cached(server, format, content, **cacheopts)\n",
      "  File \"/home/santanche/.local/lib/python3.10/site-packages/plantweb/render.py\", line 122, in render_cached\n",
      "    output = plantuml(server, format, content)\n",
      "  File \"/home/santanche/.local/lib/python3.10/site-packages/plantweb/plantuml.py\", line 124, in plantuml\n",
      "    response.raise_for_status()\n",
      "  File \"/home/santanche/.local/lib/python3.10/site-packages/requests/models.py\", line 1021, in raise_for_status\n",
      "    raise HTTPError(http_error_msg, response=self)\n",
      "requests.exceptions.HTTPError: 400 Client Error: Bad Request for url: http://www.plantuml.com/plantuml/svg/SoWkIImgAStDuUAATilFJmaeIat9J2x9BufLq5M0SxYuClDAKelI4fDJ4O8ArLmA2jeA9KM9cNaQcc1s0KGEoAlbSaZDIm6Q2m00\n"
     ]
    },
    {
     "ename": "CalledProcessError",
     "evalue": "Command '['plantweb', '--format', 'auto', '4deeed39-4713-42d5-9b6e-15342c69cb85.uml']' returned non-zero exit status 1.",
     "output_type": "error",
     "traceback": [
      "\u001b[0;31m---------------------------------------------------------------------------\u001b[0m",
      "\u001b[0;31mCalledProcessError\u001b[0m                        Traceback (most recent call last)",
      "Cell \u001b[0;32mIn[13], line 1\u001b[0m\n\u001b[0;32m----> 1\u001b[0m \u001b[43mget_ipython\u001b[49m\u001b[43m(\u001b[49m\u001b[43m)\u001b[49m\u001b[38;5;241;43m.\u001b[39;49m\u001b[43mrun_cell_magic\u001b[49m\u001b[43m(\u001b[49m\u001b[38;5;124;43m'\u001b[39;49m\u001b[38;5;124;43mplantuml\u001b[39;49m\u001b[38;5;124;43m'\u001b[39;49m\u001b[43m,\u001b[49m\u001b[43m \u001b[49m\u001b[38;5;124;43m'\u001b[39;49m\u001b[38;5;124;43m'\u001b[39;49m\u001b[43m,\u001b[49m\u001b[43m \u001b[49m\u001b[38;5;124;43m'\u001b[39;49m\u001b[38;5;130;43;01m\\n\u001b[39;49;00m\u001b[38;5;124;43m@startuml\u001b[39;49m\u001b[38;5;130;43;01m\\n\u001b[39;49;00m\u001b[38;5;130;43;01m\\n\u001b[39;49;00m\u001b[38;5;124;43m[FoodPredictor] - Predictor\u001b[39;49m\u001b[38;5;130;43;01m\\n\u001b[39;49;00m\u001b[38;5;130;43;01m\\n\u001b[39;49;00m\u001b[38;5;124;43minterface Predictor \u001b[39;49m\u001b[38;5;124;43m{\u001b[39;49m\u001b[38;5;130;43;01m\\n\u001b[39;49;00m\u001b[38;5;124;43m  + train()\u001b[39;49m\u001b[38;5;130;43;01m\\n\u001b[39;49;00m\u001b[38;5;124;43m  + predict()\u001b[39;49m\u001b[38;5;130;43;01m\\n\u001b[39;49;00m\u001b[38;5;124;43m}\u001b[39;49m\u001b[38;5;130;43;01m\\n\u001b[39;49;00m\u001b[38;5;124;43m@enduml\u001b[39;49m\u001b[38;5;130;43;01m\\n\u001b[39;49;00m\u001b[38;5;124;43m'\u001b[39;49m\u001b[43m)\u001b[49m\n",
      "File \u001b[0;32m~/.local/lib/python3.10/site-packages/IPython/core/interactiveshell.py:2478\u001b[0m, in \u001b[0;36mInteractiveShell.run_cell_magic\u001b[0;34m(self, magic_name, line, cell)\u001b[0m\n\u001b[1;32m   2476\u001b[0m \u001b[38;5;28;01mwith\u001b[39;00m \u001b[38;5;28mself\u001b[39m\u001b[38;5;241m.\u001b[39mbuiltin_trap:\n\u001b[1;32m   2477\u001b[0m     args \u001b[38;5;241m=\u001b[39m (magic_arg_s, cell)\n\u001b[0;32m-> 2478\u001b[0m     result \u001b[38;5;241m=\u001b[39m \u001b[43mfn\u001b[49m\u001b[43m(\u001b[49m\u001b[38;5;241;43m*\u001b[39;49m\u001b[43margs\u001b[49m\u001b[43m,\u001b[49m\u001b[43m \u001b[49m\u001b[38;5;241;43m*\u001b[39;49m\u001b[38;5;241;43m*\u001b[39;49m\u001b[43mkwargs\u001b[49m\u001b[43m)\u001b[49m\n\u001b[1;32m   2480\u001b[0m \u001b[38;5;66;03m# The code below prevents the output from being displayed\u001b[39;00m\n\u001b[1;32m   2481\u001b[0m \u001b[38;5;66;03m# when using magics with decodator @output_can_be_silenced\u001b[39;00m\n\u001b[1;32m   2482\u001b[0m \u001b[38;5;66;03m# when the last Python token in the expression is a ';'.\u001b[39;00m\n\u001b[1;32m   2483\u001b[0m \u001b[38;5;28;01mif\u001b[39;00m \u001b[38;5;28mgetattr\u001b[39m(fn, magic\u001b[38;5;241m.\u001b[39mMAGIC_OUTPUT_CAN_BE_SILENCED, \u001b[38;5;28;01mFalse\u001b[39;00m):\n",
      "File \u001b[0;32m~/.local/lib/python3.10/site-packages/iplantuml/__init__.py:101\u001b[0m, in \u001b[0;36mplantuml\u001b[0;34m(line, cell)\u001b[0m\n\u001b[1;32m     99\u001b[0m output \u001b[38;5;241m=\u001b[39m \u001b[38;5;28;01mNone\u001b[39;00m\n\u001b[1;32m    100\u001b[0m \u001b[38;5;28;01mif\u001b[39;00m use_web:\n\u001b[0;32m--> 101\u001b[0m     output \u001b[38;5;241m=\u001b[39m \u001b[43mplantuml_web\u001b[49m\u001b[43m(\u001b[49m\u001b[43muml_path\u001b[49m\u001b[43m)\u001b[49m\n\u001b[1;32m    102\u001b[0m \u001b[38;5;28;01melse\u001b[39;00m:\n\u001b[1;32m    103\u001b[0m     plantuml_path \u001b[38;5;241m=\u001b[39m os\u001b[38;5;241m.\u001b[39mpath\u001b[38;5;241m.\u001b[39mabspath(args\u001b[38;5;241m.\u001b[39mplantuml_path \u001b[38;5;129;01mor\u001b[39;00m PLANTUMLPATH)\n",
      "File \u001b[0;32m~/.local/lib/python3.10/site-packages/iplantuml/__init__.py:68\u001b[0m, in \u001b[0;36mplantuml_web\u001b[0;34m(*file_names, **kwargs)\u001b[0m\n\u001b[1;32m     57\u001b[0m \u001b[38;5;250m\u001b[39m\u001b[38;5;124;03m\"\"\"\u001b[39;00m\n\u001b[1;32m     58\u001b[0m \u001b[38;5;124;03mGiven a list of UML documents, generate corresponding SVG diagrams, using\u001b[39;00m\n\u001b[1;32m     59\u001b[0m \u001b[38;5;124;03mPlantUML's web service via the plantweb module.\u001b[39;00m\n\u001b[0;32m   (...)\u001b[0m\n\u001b[1;32m     62\u001b[0m \u001b[38;5;124;03m:return: the path to the generated SVG UML diagram.\u001b[39;00m\n\u001b[1;32m     63\u001b[0m \u001b[38;5;124;03m\"\"\"\u001b[39;00m\n\u001b[1;32m     64\u001b[0m cmd \u001b[38;5;241m=\u001b[39m [\u001b[38;5;124m\"\u001b[39m\u001b[38;5;124mplantweb\u001b[39m\u001b[38;5;124m\"\u001b[39m,\n\u001b[1;32m     65\u001b[0m        \u001b[38;5;124m\"\u001b[39m\u001b[38;5;124m--format\u001b[39m\u001b[38;5;124m\"\u001b[39m,\n\u001b[1;32m     66\u001b[0m        \u001b[38;5;124m\"\u001b[39m\u001b[38;5;124mauto\u001b[39m\u001b[38;5;124m\"\u001b[39m] \u001b[38;5;241m+\u001b[39m \u001b[38;5;28mlist\u001b[39m(file_names)\n\u001b[0;32m---> 68\u001b[0m \u001b[38;5;28;01mreturn\u001b[39;00m \u001b[43m_exec_and_get_paths\u001b[49m\u001b[43m(\u001b[49m\u001b[43mcmd\u001b[49m\u001b[43m,\u001b[49m\u001b[43m \u001b[49m\u001b[43mfile_names\u001b[49m\u001b[43m)\u001b[49m\n",
      "File \u001b[0;32m~/.local/lib/python3.10/site-packages/iplantuml/__init__.py:32\u001b[0m, in \u001b[0;36m_exec_and_get_paths\u001b[0;34m(cmd, file_names)\u001b[0m\n\u001b[1;32m     31\u001b[0m \u001b[38;5;28;01mdef\u001b[39;00m \u001b[38;5;21m_exec_and_get_paths\u001b[39m(cmd, file_names):\n\u001b[0;32m---> 32\u001b[0m     \u001b[43msubprocess\u001b[49m\u001b[38;5;241;43m.\u001b[39;49m\u001b[43mcheck_call\u001b[49m\u001b[43m(\u001b[49m\u001b[43mcmd\u001b[49m\u001b[43m,\u001b[49m\u001b[43m \u001b[49m\u001b[43mshell\u001b[49m\u001b[38;5;241;43m=\u001b[39;49m\u001b[38;5;28;43;01mFalse\u001b[39;49;00m\u001b[43m,\u001b[49m\u001b[43m \u001b[49m\u001b[43mstderr\u001b[49m\u001b[38;5;241;43m=\u001b[39;49m\u001b[43msubprocess\u001b[49m\u001b[38;5;241;43m.\u001b[39;49m\u001b[43mSTDOUT\u001b[49m\u001b[43m)\u001b[49m\n\u001b[1;32m     34\u001b[0m     \u001b[38;5;28;01mreturn\u001b[39;00m [os\u001b[38;5;241m.\u001b[39mpath\u001b[38;5;241m.\u001b[39msplitext(f)[\u001b[38;5;241m0\u001b[39m] \u001b[38;5;241m+\u001b[39m \u001b[38;5;124m\"\u001b[39m\u001b[38;5;124m.svg\u001b[39m\u001b[38;5;124m\"\u001b[39m \u001b[38;5;28;01mfor\u001b[39;00m f \u001b[38;5;129;01min\u001b[39;00m file_names]\n",
      "File \u001b[0;32m/usr/lib/python3.10/subprocess.py:369\u001b[0m, in \u001b[0;36mcheck_call\u001b[0;34m(*popenargs, **kwargs)\u001b[0m\n\u001b[1;32m    367\u001b[0m     \u001b[38;5;28;01mif\u001b[39;00m cmd \u001b[38;5;129;01mis\u001b[39;00m \u001b[38;5;28;01mNone\u001b[39;00m:\n\u001b[1;32m    368\u001b[0m         cmd \u001b[38;5;241m=\u001b[39m popenargs[\u001b[38;5;241m0\u001b[39m]\n\u001b[0;32m--> 369\u001b[0m     \u001b[38;5;28;01mraise\u001b[39;00m CalledProcessError(retcode, cmd)\n\u001b[1;32m    370\u001b[0m \u001b[38;5;28;01mreturn\u001b[39;00m \u001b[38;5;241m0\u001b[39m\n",
      "\u001b[0;31mCalledProcessError\u001b[0m: Command '['plantweb', '--format', 'auto', '4deeed39-4713-42d5-9b6e-15342c69cb85.uml']' returned non-zero exit status 1."
     ]
    }
   ],
   "source": [
    "%%plantuml\n",
    "\n",
    "@startuml\n",
    "\n",
    "[FoodPredictor] - Predictor\n",
    "\n",
    "@enduml"
   ]
  },
  {
   "cell_type": "code",
   "execution_count": 4,
   "metadata": {},
   "outputs": [],
   "source": [
    "import pandas as pd\n",
    "from sklearn.model_selection import train_test_split\n",
    "from sklearn.linear_model import LogisticRegression\n",
    "from sklearn.preprocessing import LabelEncoder\n",
    "from sklearn.metrics import accuracy_score\n",
    "\n",
    "class FoodPredictor:\n",
    "    def __init__(self):\n",
    "        self.model = LogisticRegression()\n",
    "        self.le_gender = LabelEncoder()\n",
    "        self.le_ethnicity = LabelEncoder()\n",
    "        self.le_fcid = LabelEncoder()\n",
    "\n",
    "    def train(self, csv_file_path):\n",
    "        # Load the data\n",
    "        data = pd.read_csv(csv_file_path)\n",
    "\n",
    "        # Encode categorical variables\n",
    "        data['gender'] = self.le_gender.fit_transform(data['gender'])\n",
    "        data['ethnicity'] = self.le_ethnicity.fit_transform(data['ethnicity'])\n",
    "        data['fcid_code'] = self.le_fcid.fit_transform(data['fcid_code'])\n",
    "\n",
    "        # Split features and target\n",
    "        X = data[['age', 'gender', 'ethnicity']]\n",
    "        y = data['fcid_code']\n",
    "\n",
    "        # Split data into train and test sets\n",
    "        X_train, X_test, y_train, y_test = train_test_split(X, y, test_size=0.2, random_state=42)\n",
    "\n",
    "        # Train the model\n",
    "        self.model.fit(X_train, y_train)\n",
    "\n",
    "        # Evaluate the model\n",
    "        y_pred = self.model.predict(X_test)\n",
    "        accuracy = accuracy_score(y_test, y_pred)\n",
    "        print(f\"Model accuracy: {accuracy:.2f}\")\n",
    "\n",
    "    def predict(self, age, gender, ethnicity):\n",
    "        # Encode input data\n",
    "        gender_encoded = self.le_gender.transform([gender])[0]\n",
    "        ethnicity_encoded = self.le_ethnicity.transform([ethnicity])[0]\n",
    "\n",
    "        # Make prediction\n",
    "        prediction = self.model.predict([[age, gender_encoded, ethnicity_encoded]])\n",
    "\n",
    "        # Decode prediction\n",
    "        fcid_code = self.le_fcid.inverse_transform(prediction)[0]\n",
    "\n",
    "        return fcid_code"
   ]
  },
  {
   "cell_type": "code",
   "execution_count": 8,
   "metadata": {},
   "outputs": [
    {
     "name": "stdout",
     "output_type": "stream",
     "text": [
      "Model accuracy: 0.61\n",
      "For a person with age 31, gender code 1, and ethnicity code 2:\n",
      "The predicted FCID code is: 603182000\n"
     ]
    },
    {
     "name": "stderr",
     "output_type": "stream",
     "text": [
      "/home/santanche/.local/lib/python3.10/site-packages/sklearn/linear_model/_logistic.py:469: ConvergenceWarning: lbfgs failed to converge (status=1):\n",
      "STOP: TOTAL NO. of ITERATIONS REACHED LIMIT.\n",
      "\n",
      "Increase the number of iterations (max_iter) or scale the data as shown in:\n",
      "    https://scikit-learn.org/stable/modules/preprocessing.html\n",
      "Please also refer to the documentation for alternative solver options:\n",
      "    https://scikit-learn.org/stable/modules/linear_model.html#logistic-regression\n",
      "  n_iter_i = _check_optimize_result(\n",
      "/home/santanche/.local/lib/python3.10/site-packages/sklearn/base.py:493: UserWarning: X does not have valid feature names, but LogisticRegression was fitted with feature names\n",
      "  warnings.warn(\n"
     ]
    }
   ],
   "source": [
    "# Create an instance of the predictor\n",
    "predictor = FoodPredictor()\n",
    "\n",
    "# Train the model\n",
    "# Note: Make sure the file \"intake-person-demo(beans).csv\" is in the correct directory\n",
    "predictor.train(\"intake-person-demo(beans).csv\")\n",
    "\n",
    "# Now, let's make a prediction with the given parameters\n",
    "age = 31\n",
    "gender = 1  # Assuming 1 represents a specific gender in your encoding\n",
    "ethnicity = 2  # Assuming 2 represents a specific ethnicity in your encoding\n",
    "\n",
    "# Make the prediction\n",
    "predicted_fcid = predictor.predict(age, gender, ethnicity)\n",
    "\n",
    "# Print the result\n",
    "print(f\"For a person with age {age}, gender code {gender}, and ethnicity code {ethnicity}:\")\n",
    "print(f\"The predicted FCID code is: {predicted_fcid}\")"
   ]
  }
 ],
 "metadata": {
  "kernelspec": {
   "display_name": "Python 3",
   "language": "python",
   "name": "python3"
  },
  "language_info": {
   "codemirror_mode": {
    "name": "ipython",
    "version": 3
   },
   "file_extension": ".py",
   "mimetype": "text/x-python",
   "name": "python",
   "nbconvert_exporter": "python",
   "pygments_lexer": "ipython3",
   "version": "3.10.12"
  }
 },
 "nbformat": 4,
 "nbformat_minor": 2
}
